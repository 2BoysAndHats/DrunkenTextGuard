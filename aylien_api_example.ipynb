{
 "cells": [
  {
   "cell_type": "code",
   "execution_count": 23,
   "metadata": {
    "collapsed": true,
    "deletable": true,
    "editable": true
   },
   "outputs": [],
   "source": [
    "from aylienapiclient import textapi\n",
    "\n",
    "client = textapi.Client(\"852d4628\", \"f0c073a0992c00b0964b5d8f88a0aba4\")"
   ]
  },
  {
   "cell_type": "code",
   "execution_count": 24,
   "metadata": {
    "collapsed": true,
    "deletable": true,
    "editable": true
   },
   "outputs": [
    {
     "name": "stdout",
     "output_type": "stream",
     "text": [
      "{u'confidence': 1.0, u'code': u'04003000', u'label': u'economy, business and finance - computing and information technology'}\n"
     ]
    }
   ],
   "source": [
    "### classification\n",
    "url = \"http://techcrunch.com/2015/07/16/microsoft-will-never-give-up-on-mobile\"\n",
    "classifications = client.Classify({\"url\": url})\n",
    "for category in classifications['categories']:\n",
    "  print category"
   ]
  },
  {
   "cell_type": "code",
   "execution_count": 6,
   "metadata": {},
   "outputs": [
    {
     "name": "stdout",
     "output_type": "stream",
     "text": [
      "{u'confident': True, u'score': 0.5292403311629293, u'id': u'IAB19-36', u'links': [{u'link': u'https://api.aylien.com/api/v1/classify/taxonomy/iab-qag/IAB19-36', u'rel': u'self'}, {u'link': u'https://api.aylien.com/api/v1/classify/taxonomy/iab-qag/IAB19', u'rel': u'parent'}], u'label': u'Windows'}\n{u'confident': True, u'score': 0.5225363623381701, u'id': u'IAB19', u'links': [{u'link': u'https://api.aylien.com/api/v1/classify/taxonomy/iab-qag/IAB19', u'rel': u'self'}], u'label': u'Technology & Computing'}\n"
     ]
    }
   ],
   "source": [
    "# classification by taxonomy \n",
    "\n",
    "url = \"http://techcrunch.com/2015/07/16/microsoft-will-never-give-up-on-mobile\"\n",
    "classifications = client.ClassifyByTaxonomy({\"url\": url, \"taxonomy\": \"iab-qag\"})\n",
    "for category in classifications['categories']:\n",
    "  print category"
   ]
  },
  {
   "cell_type": "code",
   "execution_count": 7,
   "metadata": {},
   "outputs": [
    {
     "name": "stdout",
     "output_type": "stream",
     "text": [
      "{u'polarity': u'positive', u'text': u'John is a very good football player', u'polarity_confidence': 0.9824022650718689, u'subjectivity_confidence': 0.9963778207617525, u'subjectivity': u'subjective'}\n"
     ]
    }
   ],
   "source": [
    "# Sentiment\n",
    "\n",
    "text = 'John is a very good football player'\n",
    "sentiment = client.Sentiment({'text': text})\n",
    "print sentiment"
   ]
  },
  {
   "cell_type": "code",
   "execution_count": 8,
   "metadata": {},
   "outputs": [
    {
     "name": "stdout",
     "output_type": "stream",
     "text": [
      "{u'polarity': u'positive', u'polarity_confidence': 0.9158667922019958, u'aspect_confidence': 0.9844918375613347, u'aspect': u'food'}\n{u'polarity': u'negative', u'polarity_confidence': 0.9969394207000732, u'aspect_confidence': 0.9840801824291919, u'aspect': u'staff'}\n"
     ]
    }
   ],
   "source": [
    "# Aspect-based Sentiment Analysis\n",
    "\n",
    "text = \"Delicious food. Disappointing service.\"\n",
    "absa = client.AspectBasedSentiment({'domain': 'restaurants', 'text': text})\n",
    "for aspect in absa['aspects']:\n",
    "  print aspect"
   ]
  },
  {
   "cell_type": "code",
   "execution_count": 9,
   "metadata": {},
   "outputs": [
    {
     "name": "stdout",
     "output_type": "stream",
     "text": [
      "organization ACME\nlocation Chicago\nkeyword John, corp, Smith, Chicago, ACME\nperson John Smith\n"
     ]
    }
   ],
   "source": [
    "# Entity Extraction\n",
    "text = \"ACME corp was founded by John Smith in Chicago.\"\n",
    "entities = client.Entities({\"text\": text})\n",
    "for type, values in entities['entities'].iteritems():\n",
    "  print type,', '.join(values)"
   ]
  },
  {
   "cell_type": "code",
   "execution_count": 13,
   "metadata": {},
   "outputs": [
    {
     "name": "stdout",
     "output_type": "stream",
     "text": [
      "http://dbpedia.org/resource/Apple_Inc. Apple\nhttp://dbpedia.org/resource/Ronald_Wayne Ronald Wayne\nhttp://dbpedia.org/resource/Steve_Wozniak Steve Wozniak\nhttp://dbpedia.org/resource/Steve_Jobs Steve Jobs\n"
     ]
    }
   ],
   "source": [
    "# Concept Extraction\n",
    "text = \"Apple was founded by Steve Jobs, Steve Wozniak and Ronald Wayne.\"\n",
    "concepts = client.Concepts({\"text\": text})\n",
    "for uri, value in concepts['concepts'].iteritems():\n",
    "  sfs = map(lambda c: c['string'], value['surfaceForms'])\n",
    "  print uri,', '.join(sfs)"
   ]
  },
  {
   "cell_type": "code",
   "execution_count": 14,
   "metadata": {},
   "outputs": [
    {
     "name": "stdout",
     "output_type": "stream",
     "text": [
      "It's been almost two years since the world was captivated by Snowden's leaks to The Guardian and The Washington Post about American surveillance programs.\nIn response to the public outcry that followed the Snowden revelations, President Obama stipulated that congress must renew or reform the Patriot Act provision authorizing the bulk collection of Americans' phone records by that date, or else the program will expire.\nSnowden then went on to explain how the government uses different programs to access those pictures, from Executive Order 12333 to Section 702 of the Foreign Intelligence Surveillance Act.\n"
     ]
    }
   ],
   "source": [
    "# Summarization\n",
    "url = 'http://techcrunch.com/2015/04/06/john-oliver-just-changed-the-surveillance-reform-debate'\n",
    "summary = client.Summarize({'url': url, 'sentences_number': 3})\n",
    "for sentence in summary['sentences']:\n",
    "  print sentence"
   ]
  },
  {
   "cell_type": "code",
   "execution_count": 15,
   "metadata": {},
   "outputs": [
    {
     "name": "stdout",
     "output_type": "stream",
     "text": [
      "{u'author': u'Cat Zakrzewski', u'videos': [u'https://www.youtube.com/embed/XEVlyP4_11M?version=3&rel=1&fs=1&autohide=2&showsearch=0&showinfo=1&iv_load_policy=1&wmode=transparent'], u'tags': [], u'image': u'https://tctechcrunch2011.files.wordpress.com/2015/04/screen-shot-2015-04-06-at-1-57-20-pm.png?w=764&h=400&crop=1', u'title': u'John Oliver Just Changed The Surveillance Reform Debate', u'publishDate': u'2015-04-06T17:45:49+00:00', u'article': u'Remember Edward Snowden?\\r\\n\\r\\nFor many Americans who talked to John Oliver\\xa0on Last Week Tonight, the answer is no.\\r\\n\\r\\nIt\\'s been almost two years since the world was captivated by Snowden\\'s leaks to The Guardian and The Washington Post about American surveillance programs. For weeks it seemed there was a new headline everyday about\\xa0another previously classified surveillance program or another government official calling for action on this issue. Presidential review groups were called.\\xa0President Obama called for major changes to the programs.\\r\\n\\r\\nAlthough the Snowden leaks certainly proved to be much more than a \"three-day story,\" American surveillance practices remain largely\\xa0the same two years later.\\xa0The main difference is this issue no longer dominates\\xa0our political discourse. In November, the FREEDOM Act -- legislation under development for two years that would have overhauled NSA surveillance programs --\\xa0died in a Senate procedural vote to little display.\\r\\n\\r\\nLast night we found out Oliver\\'s HBO program was off last week because he was in Russia interviewing \"the most famous hero and/or traitor in recent American history.\" Oliver hit on many points that have been lacking in past interviews with the former government contractor -- from whether Snowden misses Hot Pockets to whether he\\'s actually read all of the documents he\\'s released to reporters (Snowden maintained he understands the scope of the documents).\\r\\n\\r\\nOliver\\'s interview is timely\\xa0as we approach an important\\xa0deadline for surveillance reform on June 1. In response to the public outcry that followed the Snowden revelations, President Obama stipulated that congress must renew or reform the Patriot Act provision authorizing the bulk collection of Americans\\' phone records by that date, or else the program will expire. \\r\\n\\r\\nOnline this morning, Twitter, Reddit and the expected\\xa0publications\\xa0were abuzz with how \"John Oliver killed it\" and or \"slayed it\" in this new segment.\\r\\nSo John Oliver didn\\'t ~destroy~ anything last night. He just interviewed Snowden.\\r\\n\\r\\n\\u2014 Steve Kovach (@stevekovach) April 6, 2015\\r\\nDespite what network news chose to lead with, the interview\\'s\\xa0significance extends beyond Snowden saying\\xa0you should keep sending dirty pictures.\\xa0It\\'s important because millions of people who haven\\'t thought about surveillance reform in months\\xa0are going to click on this YouTube video and care about it again.\\r\\n\\r\\nLast summer we saw Oliver\\'s ability to captivate the public\\'s attention when it came to the complex, technical issue of net neutrality. His commentary prompted tens of thousands to submit comments to the Federal Communications Commission, helping net neutrality\\xa0receive more public input than any other FCC docket item\\xa0that came before it. In just 13 minutes, Oliver helped change\\xa0the future of the Internet.\\r\\n\\r\\nSo what will the 33 minutes he spent on government surveillance reform do?\\r\\n\\r\\nThe\\xa0FREEDOM Act\\'s failure last year can largely be attributed to a lack of public support and understanding. If the average voter doesn\\'t know the name Edward Snowden, how can they be expected to know about Section 215 of the Patriot Act?\\r\\n\\r\\nEver able to make us laugh about even the driest news topics, Oliver\\xa0changed the topic of discussion from vague hypotheticals about civil liberties to something tangible he knew many Americans would care about -- dick pics.\\r\\n\\r\\n\"Well the good news is there\\'s no program named, \\'the dick pic program,\\'\" Snowden said. \\xa0\"The bad news is they are still collecting everybody\\'s information, including your dick pics.\"\\r\\n\\r\\nSnowden then went on to explain how the government uses different programs to access those pictures, from Executive Order 12333 to Section 702 of the Foreign Intelligence Surveillance Act.\\xa0He was able to explain confusing provisions of American surveillance law in just a few sentences.\\r\\n\\r\\nHopefully as this debate returns to Washington and we\\xa0turn to more serious conversations about surveillance reform, Oliver\\'s jokes will keep Americans engaged and calling on their representatives to act on surveillance reform.', u'feeds': [u'https://techcrunch.com/feed/', u'https://techcrunch.com/comments/feed/', u'https://techcrunch.com/2015/04/06/john-oliver-just-changed-the-surveillance-reform-debate/feed/']}\n"
     ]
    }
   ],
   "source": [
    "# Article Extraction\n",
    "\n",
    "url = \"http://techcrunch.com/2015/04/06/john-oliver-just-changed-the-surveillance-reform-debate\"\n",
    "extract = client.Extract({\"url\": url, \"best_image\": True})\n",
    "print extract"
   ]
  },
  {
   "cell_type": "code",
   "execution_count": 16,
   "metadata": {},
   "outputs": [
    {
     "name": "stdout",
     "output_type": "stream",
     "text": [
      "#LionelMessi, #FCBarcelona, #RAC1, #JosepMariaBartomeu, #ArgentinaNationalFootballTeam, #GerardoMartino, #ParisSaintGermainFC\n"
     ]
    }
   ],
   "source": [
    "# Hashtag Suggestion\n",
    "url = \"http://www.bbc.com/sport/0/football/25912393\"\n",
    "hashtags = client.Hashtags({\"url\": url})\n",
    "print ', '.join(hashtags['hashtags'])"
   ]
  },
  {
   "cell_type": "code",
   "execution_count": 17,
   "metadata": {},
   "outputs": [
    {
     "name": "stdout",
     "output_type": "stream",
     "text": [
      "{u'photo': u'/images/me.jpg', u'id': u'a8854a8fd9bdd9add4108a39179810c661bc4232', u'location': {u'latitude': u'51.5153961181641', u'id': u'4aef7ad915718d57463d6f3405c3e6e3c1a58d85', u'longitude': u'-0.131790161134194'}, u'structuredName': {u'givenName': u'Tom', u'id': u'b0cb206ecf58ae5e16a3c49159889cddba568b3b', u'familyName': u'Morris'}, u'logo': u'/images/me.jpg', u'fullName': u'Tom Morris', u'email': u'tom@tommorris.org'}\n"
     ]
    }
   ],
   "source": [
    "# Microformat Extraction\n",
    "url = \"http://tommorris.org/\"\n",
    "microformats = client.Microformats({\"url\": url})\n",
    "for hCard in microformats['hCards']:\n",
    "  print hCard"
   ]
  },
  {
   "cell_type": "code",
   "execution_count": 18,
   "metadata": {},
   "outputs": [
    {
     "name": "stdout",
     "output_type": "stream",
     "text": [
      "{u'phrase': u'classification algorithms', u'distance': 0.3173404335975647}\n{u'phrase': u'support vector machines', u'distance': 0.3355288505554199}\n{u'phrase': u'learning algorithms', u'distance': 0.33748847246170044}\n{u'phrase': u'machine learning algorithms', u'distance': 0.3391806483268738}\n{u'phrase': u'data mining', u'distance': 0.35108107328414917}\n{u'phrase': u'artificial neural networks', u'distance': 0.35329926013946533}\n{u'phrase': u'reinforcement learning', u'distance': 0.3667753338813782}\n{u'phrase': u'information retrieval', u'distance': 0.3667911887168884}\n{u'phrase': u'neural networks', u'distance': 0.3686859607696533}\n{u'phrase': u'hidden markov models', u'distance': 0.378858745098114}\n{u'phrase': u'conditional random', u'distance': 0.38484376668930054}\n{u'phrase': u'algorithms', u'distance': 0.3850686550140381}\n{u'phrase': u'computer vision', u'distance': 0.3934193253517151}\n{u'phrase': u'kernel methods', u'distance': 0.40055960416793823}\n{u'phrase': u'semi supervised learning', u'distance': 0.40721994638442993}\n{u'phrase': u'supervised learning', u'distance': 0.4087304472923279}\n{u'phrase': u'computational learning', u'distance': 0.4115641713142395}\n{u'phrase': u'genetic algorithms', u'distance': 0.4153286814689636}\n{u'phrase': u'pattern recognition', u'distance': 0.41550779342651367}\n{u'phrase': u'computational', u'distance': 0.4165934920310974}\n"
     ]
    }
   ],
   "source": [
    "# Related Phrases\n",
    "related = client.Related({\"phrase\": \"machine learning\"})\n",
    "for phrase in related['related']:\n",
    "  print phrase"
   ]
  },
  {
   "cell_type": "code",
   "execution_count": 19,
   "metadata": {},
   "outputs": [
    {
     "name": "stdout",
     "output_type": "stream",
     "text": [
      "{u'score': 0.021897810218978103, u'label': u'technology'}\n{u'score': 0.0024330900243309003, u'label': u'sports'}\n"
     ]
    }
   ],
   "source": [
    "# Semantic Labeling\n",
    "classes = ['technology', 'sports']\n",
    "url = 'http://techcrunch.com/2015/07/16/microsoft-will-never-give-up-on-mobile'\n",
    "classifications = client.UnsupervisedClassify({'url': url, 'class': classes})\n",
    "for c in classifications['classes']:\n",
    "  print c"
   ]
  },
  {
   "cell_type": "code",
   "execution_count": 22,
   "metadata": {},
   "outputs": [
    {
     "name": "stdout",
     "output_type": "stream",
     "text": [
      "entities\n{u'entities': {u'organization': [u'DNS', u'BBC'], u'keyword': [u'internet servers', u'flaw in the internet', u'internet users', u'server software', u'exploits of the flaw', u'internet', u'System (DNS) software', u'servers', u'flaw', u'expert', u'systems', u'vulnerability', u'software', u'exploits', u'users', u'websites', u'addresses', u'domain', u'offline', u'services'], u'person': [u'Daniel Cid', u'Brian Honan']}, u'language': u'en'}\nconcepts\n{u'language': u'en', u'concepts': {u'http://dbpedia.org/resource/OpenSSL': {u'support': 264, u'types': [u'http://dbpedia.org/ontology/Software'], u'surfaceForms': [{u'score': 1.0, u'string': u'OpenSSL', u'offset': 1330}]}, u'http://dbpedia.org/resource/BBC_News': {u'support': 2130, u'types': [u'http://dbpedia.org/ontology/Company'], u'surfaceForms': [{u'score': 0.7864308886108752, u'string': u'BBC', u'offset': 1169}]}, u'http://dbpedia.org/resource/Denial-of-service_attack': {u'support': 664, u'types': [u''], u'surfaceForms': [{u'score': 1.0, u'string': u'denial-of-service attacks', u'offset': 325}]}, u'http://dbpedia.org/resource/Apache_HTTP_Server': {u'support': 499, u'types': [u'http://dbpedia.org/ontology/Software'], u'surfaceForms': [{u'score': 1.0, u'string': u'Apache', u'offset': 1322}]}, u'http://dbpedia.org/resource/Domain_Name_System': {u'support': 1461, u'types': [u''], u'surfaceForms': [{u'score': 1.0, u'string': u'Domain Name System', u'offset': 503}, {u'score': 0.9999999999863576, u'string': u'DNS', u'offset': 523}]}, u'http://dbpedia.org/resource/Internet_Systems_Consortium': {u'support': 46, u'types': [u'http://dbpedia.org/ontology/Non-ProfitOrganisation'], u'surfaceForms': [{u'score': 1.0, u'string': u'Internet Systems Consortium', u'offset': 826}]}}}\nclassify\n{u'categories': [{u'confidence': 1.0, u'code': u'04003005', u'label': u'computing and information technology - software'}], u'language': u'en'}\n"
     ]
    }
   ],
   "source": [
    "# Combined Calls\n",
    "combined = client.Combined({\n",
    "  'url': \"http://www.bbc.com/news/technology-33764155\",\n",
    "  'endpoint': [\"entities\", \"concepts\", \"classify\"]\n",
    "})\n",
    "\n",
    "for result in combined[\"results\"]:\n",
    "  print(result[\"endpoint\"])\n",
    "  print(result[\"result\"])"
   ]
  },
  {
   "cell_type": "code",
   "execution_count": null,
   "metadata": {},
   "outputs": [],
   "source": [
    ""
   ]
  }
 ],
 "metadata": {
  "kernelspec": {
   "display_name": "Python 2",
   "language": "python",
   "name": "python2"
  },
  "language_info": {
   "codemirror_mode": {
    "name": "ipython",
    "version": 2.0
   },
   "file_extension": ".py",
   "mimetype": "text/x-python",
   "name": "python",
   "nbconvert_exporter": "python",
   "pygments_lexer": "ipython2",
   "version": "2.7.13"
  }
 },
 "nbformat": 4,
 "nbformat_minor": 0
}